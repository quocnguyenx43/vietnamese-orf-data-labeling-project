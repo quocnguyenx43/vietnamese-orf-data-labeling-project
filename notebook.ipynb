{
 "cells": [
  {
   "cell_type": "code",
   "execution_count": 4,
   "metadata": {},
   "outputs": [],
   "source": [
    "import pandas as pd\n",
    "import numpy as np\n",
    "import csv\n",
    "\n",
    "import sqlite3\n",
    "from datetime import datetime\n",
    "import pytz\n",
    "\n",
    "# Connect to the database\n",
    "conn = sqlite3.connect('./instance/database.db')\n",
    "cursor = conn.cursor()\n",
    "\n",
    "# List of tables to clear\n",
    "tables_to_clear = ['recruitment', 'annotation', 'cross_check_reviews']\n",
    "\n",
    "# Delete all rows from each table\n",
    "for table in tables_to_clear:\n",
    "    cursor.execute(\"DELETE FROM user WHERE username = '22520719';\")\n",
    "\n",
    "# Commit the changes\n",
    "conn.commit()\n",
    "\n",
    "# Close the connection\n",
    "conn.close()"
   ]
  }
 ],
 "metadata": {
  "kernelspec": {
   "display_name": "base",
   "language": "python",
   "name": "python3"
  },
  "language_info": {
   "codemirror_mode": {
    "name": "ipython",
    "version": 3
   },
   "file_extension": ".py",
   "mimetype": "text/x-python",
   "name": "python",
   "nbconvert_exporter": "python",
   "pygments_lexer": "ipython3",
   "version": "3.11.5"
  }
 },
 "nbformat": 4,
 "nbformat_minor": 2
}
